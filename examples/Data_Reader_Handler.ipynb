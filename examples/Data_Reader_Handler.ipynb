{
 "cells": [
  {
   "cell_type": "code",
   "execution_count": 1,
   "metadata": {},
   "outputs": [],
   "source": [
    "import numpy as np\n",
    "import pandas as pd\n",
    "import matplotlib.pyplot as plt\n",
    "import seaborn as sns\n",
    "\n",
    "import sys"
   ]
  },
  {
   "cell_type": "code",
   "execution_count": 2,
   "metadata": {},
   "outputs": [],
   "source": [
    "sys.path.append(\"../\")"
   ]
  },
  {
   "cell_type": "code",
   "execution_count": 3,
   "metadata": {},
   "outputs": [],
   "source": [
    "from nupyk import sedreader, datahandler, plotutils, utils"
   ]
  },
  {
   "cell_type": "code",
   "execution_count": 4,
   "metadata": {},
   "outputs": [],
   "source": [
    "TXS_reader = sedreader.SEDReader(\"../data/SED_14.22_77.3582_5.6932_TXS0506+056_nan\")"
   ]
  },
  {
   "cell_type": "code",
   "execution_count": 5,
   "metadata": {},
   "outputs": [
    {
     "data": {
      "text/html": [
       "<div>\n",
       "<style scoped>\n",
       "    .dataframe tbody tr th:only-of-type {\n",
       "        vertical-align: middle;\n",
       "    }\n",
       "\n",
       "    .dataframe tbody tr th {\n",
       "        vertical-align: top;\n",
       "    }\n",
       "\n",
       "    .dataframe thead th {\n",
       "        text-align: right;\n",
       "    }\n",
       "</style>\n",
       "<table border=\"1\" class=\"dataframe\">\n",
       "  <thead>\n",
       "    <tr style=\"text-align: right;\">\n",
       "      <th></th>\n",
       "      <th>freq</th>\n",
       "      <th>flux</th>\n",
       "      <th>flux_plus</th>\n",
       "      <th>flux_min</th>\n",
       "      <th>cat</th>\n",
       "    </tr>\n",
       "  </thead>\n",
       "  <tbody>\n",
       "    <tr>\n",
       "      <th>0</th>\n",
       "      <td>1.400000e+09</td>\n",
       "      <td>7.503000e-15</td>\n",
       "      <td>7.728000e-15</td>\n",
       "      <td>7.277000e-15</td>\n",
       "      <td>NVSS</td>\n",
       "    </tr>\n",
       "    <tr>\n",
       "      <th>1</th>\n",
       "      <td>2.418000e+17</td>\n",
       "      <td>4.158000e-13</td>\n",
       "      <td>5.494000e-13</td>\n",
       "      <td>2.821000e-13</td>\n",
       "      <td>RASS</td>\n",
       "    </tr>\n",
       "    <tr>\n",
       "      <th>2</th>\n",
       "      <td>2.418000e+17</td>\n",
       "      <td>3.539000e-13</td>\n",
       "      <td>4.157000e-13</td>\n",
       "      <td>2.921000e-13</td>\n",
       "      <td>OUSXB</td>\n",
       "    </tr>\n",
       "    <tr>\n",
       "      <th>5</th>\n",
       "      <td>7.253000e+17</td>\n",
       "      <td>3.950000e-13</td>\n",
       "      <td>4.640000e-13</td>\n",
       "      <td>3.260000e-13</td>\n",
       "      <td>OUSXB</td>\n",
       "    </tr>\n",
       "    <tr>\n",
       "      <th>6</th>\n",
       "      <td>1.088000e+18</td>\n",
       "      <td>4.524000e-13</td>\n",
       "      <td>5.893000e-13</td>\n",
       "      <td>3.155000e-13</td>\n",
       "      <td>OUSXB</td>\n",
       "    </tr>\n",
       "  </tbody>\n",
       "</table>\n",
       "</div>"
      ],
      "text/plain": [
       "           freq          flux     flux_plus      flux_min    cat\n",
       "0  1.400000e+09  7.503000e-15  7.728000e-15  7.277000e-15   NVSS\n",
       "1  2.418000e+17  4.158000e-13  5.494000e-13  2.821000e-13   RASS\n",
       "2  2.418000e+17  3.539000e-13  4.157000e-13  2.921000e-13  OUSXB\n",
       "5  7.253000e+17  3.950000e-13  4.640000e-13  3.260000e-13  OUSXB\n",
       "6  1.088000e+18  4.524000e-13  5.893000e-13  3.155000e-13  OUSXB"
      ]
     },
     "execution_count": 5,
     "metadata": {},
     "output_type": "execute_result"
    }
   ],
   "source": [
    "TXS_reader.dataframe.head()"
   ]
  },
  {
   "cell_type": "code",
   "execution_count": 6,
   "metadata": {},
   "outputs": [],
   "source": [
    "sed_path_list = [\"../data/\"]"
   ]
  },
  {
   "cell_type": "code",
   "execution_count": 7,
   "metadata": {},
   "outputs": [
    {
     "name": "stderr",
     "output_type": "stream",
     "text": [
      "Reading files: 100%|██████████| 1/1 [00:00<00:00, 34.12it/s]"
     ]
    },
    {
     "name": "stdout",
     "output_type": "stream",
     "text": [
      "Function: 'read' took: 0.04 s\n"
     ]
    },
    {
     "name": "stderr",
     "output_type": "stream",
     "text": [
      "\n"
     ]
    }
   ],
   "source": [
    "reader = datahandler.DataReader(sed_path_list)"
   ]
  },
  {
   "cell_type": "code",
   "execution_count": 8,
   "metadata": {},
   "outputs": [
    {
     "data": {
      "text/html": [
       "<div>\n",
       "<style scoped>\n",
       "    .dataframe tbody tr th:only-of-type {\n",
       "        vertical-align: middle;\n",
       "    }\n",
       "\n",
       "    .dataframe tbody tr th {\n",
       "        vertical-align: top;\n",
       "    }\n",
       "\n",
       "    .dataframe thead th {\n",
       "        text-align: right;\n",
       "    }\n",
       "</style>\n",
       "<table border=\"1\" class=\"dataframe\">\n",
       "  <thead>\n",
       "    <tr style=\"text-align: right;\">\n",
       "      <th></th>\n",
       "      <th>name</th>\n",
       "      <th>dec</th>\n",
       "      <th>ra</th>\n",
       "      <th>nu_peak</th>\n",
       "      <th>redshift</th>\n",
       "      <th>data</th>\n",
       "    </tr>\n",
       "  </thead>\n",
       "  <tbody>\n",
       "    <tr>\n",
       "      <th>0</th>\n",
       "      <td>TXS0506+056</td>\n",
       "      <td>5.6932</td>\n",
       "      <td>77.3582</td>\n",
       "      <td>14.22</td>\n",
       "      <td>NaN</td>\n",
       "      <td>freq          flux     flux_plus ...</td>\n",
       "    </tr>\n",
       "  </tbody>\n",
       "</table>\n",
       "</div>"
      ],
      "text/plain": [
       "          name     dec       ra  nu_peak  redshift  \\\n",
       "0  TXS0506+056  5.6932  77.3582    14.22       NaN   \n",
       "\n",
       "                                                data  \n",
       "0               freq          flux     flux_plus ...  "
      ]
     },
     "execution_count": 8,
     "metadata": {},
     "output_type": "execute_result"
    }
   ],
   "source": [
    "reader.raw_dataframe.head()"
   ]
  },
  {
   "cell_type": "code",
   "execution_count": 9,
   "metadata": {},
   "outputs": [],
   "source": [
    "reader.save()"
   ]
  },
  {
   "cell_type": "code",
   "execution_count": 10,
   "metadata": {},
   "outputs": [
    {
     "name": "stderr",
     "output_type": "stream",
     "text": [
      "Reading files: 100%|██████████| 1/1 [00:00<00:00, 27.70it/s]\n",
      "Processing files:   0%|          | 0/1 [00:00<?, ?it/s]"
     ]
    },
    {
     "name": "stdout",
     "output_type": "stream",
     "text": [
      "Function: 'read' took: 0.06 s\n"
     ]
    },
    {
     "name": "stderr",
     "output_type": "stream",
     "text": [
      "Processing files: 100%|██████████| 1/1 [00:00<00:00,  5.66it/s]\n"
     ]
    },
    {
     "name": "stdout",
     "output_type": "stream",
     "text": [
      "Function: 'process' took: 0.19 s\n"
     ]
    }
   ],
   "source": [
    "handler = datahandler.DataHandler(sed_path_list)"
   ]
  },
  {
   "cell_type": "code",
   "execution_count": 11,
   "metadata": {},
   "outputs": [],
   "source": [
    "raw_df = handler.raw_dataframe"
   ]
  },
  {
   "cell_type": "code",
   "execution_count": 12,
   "metadata": {},
   "outputs": [],
   "source": [
    "processed_df = handler.processed_dataframe"
   ]
  },
  {
   "cell_type": "code",
   "execution_count": 13,
   "metadata": {},
   "outputs": [
    {
     "data": {
      "text/html": [
       "<div>\n",
       "<style scoped>\n",
       "    .dataframe tbody tr th:only-of-type {\n",
       "        vertical-align: middle;\n",
       "    }\n",
       "\n",
       "    .dataframe tbody tr th {\n",
       "        vertical-align: top;\n",
       "    }\n",
       "\n",
       "    .dataframe thead th {\n",
       "        text-align: right;\n",
       "    }\n",
       "</style>\n",
       "<table border=\"1\" class=\"dataframe\">\n",
       "  <thead>\n",
       "    <tr style=\"text-align: right;\">\n",
       "      <th></th>\n",
       "      <th>name</th>\n",
       "      <th>dec</th>\n",
       "      <th>ra</th>\n",
       "      <th>nu_peak</th>\n",
       "      <th>redshift</th>\n",
       "      <th>radio_freq_mean</th>\n",
       "      <th>radio_flux_mean</th>\n",
       "      <th>radio_flux_std</th>\n",
       "      <th>radio_flux_min</th>\n",
       "      <th>radio_flux_max</th>\n",
       "      <th>...</th>\n",
       "      <th>optical_freq_max</th>\n",
       "      <th>optical_freq_count</th>\n",
       "      <th>X_freq_std</th>\n",
       "      <th>X_freq_min</th>\n",
       "      <th>X_freq_max</th>\n",
       "      <th>X_freq_count</th>\n",
       "      <th>gamma_freq_std</th>\n",
       "      <th>gamma_freq_min</th>\n",
       "      <th>gamma_freq_max</th>\n",
       "      <th>gamma_freq_count</th>\n",
       "    </tr>\n",
       "  </thead>\n",
       "  <tbody>\n",
       "    <tr>\n",
       "      <th>0</th>\n",
       "      <td>TXS0506+056</td>\n",
       "      <td>5.6932</td>\n",
       "      <td>77.3582</td>\n",
       "      <td>14.22</td>\n",
       "      <td>NaN</td>\n",
       "      <td>1.438682e+11</td>\n",
       "      <td>3.026979e-13</td>\n",
       "      <td>3.287399e-13</td>\n",
       "      <td>0.0</td>\n",
       "      <td>1.222000e-12</td>\n",
       "      <td>...</td>\n",
       "      <td>8.563000e+14</td>\n",
       "      <td>12.0</td>\n",
       "      <td>3.062534e+17</td>\n",
       "      <td>1.138000e+15</td>\n",
       "      <td>1.451000e+18</td>\n",
       "      <td>228.0</td>\n",
       "      <td>6.405844e+25</td>\n",
       "      <td>36500000.0</td>\n",
       "      <td>2.614000e+26</td>\n",
       "      <td>30.0</td>\n",
       "    </tr>\n",
       "  </tbody>\n",
       "</table>\n",
       "<p>1 rows × 55 columns</p>\n",
       "</div>"
      ],
      "text/plain": [
       "          name     dec       ra  nu_peak  redshift  radio_freq_mean  \\\n",
       "0  TXS0506+056  5.6932  77.3582    14.22       NaN     1.438682e+11   \n",
       "\n",
       "   radio_flux_mean  radio_flux_std  radio_flux_min  radio_flux_max  ...  \\\n",
       "0     3.026979e-13    3.287399e-13             0.0    1.222000e-12  ...   \n",
       "\n",
       "   optical_freq_max  optical_freq_count    X_freq_std    X_freq_min  \\\n",
       "0      8.563000e+14                12.0  3.062534e+17  1.138000e+15   \n",
       "\n",
       "     X_freq_max  X_freq_count  gamma_freq_std  gamma_freq_min  gamma_freq_max  \\\n",
       "0  1.451000e+18         228.0    6.405844e+25      36500000.0    2.614000e+26   \n",
       "\n",
       "   gamma_freq_count  \n",
       "0              30.0  \n",
       "\n",
       "[1 rows x 55 columns]"
      ]
     },
     "execution_count": 13,
     "metadata": {},
     "output_type": "execute_result"
    }
   ],
   "source": [
    "processed_df.head()"
   ]
  },
  {
   "cell_type": "code",
   "execution_count": 14,
   "metadata": {},
   "outputs": [],
   "source": [
    "handler.save()"
   ]
  },
  {
   "cell_type": "code",
   "execution_count": 15,
   "metadata": {},
   "outputs": [],
   "source": [
    "handler.save_raw()"
   ]
  },
  {
   "cell_type": "code",
   "execution_count": 16,
   "metadata": {},
   "outputs": [],
   "source": [
    "TXS_processed = processed_df.iloc[0]"
   ]
  },
  {
   "cell_type": "code",
   "execution_count": 17,
   "metadata": {},
   "outputs": [
    {
     "data": {
      "image/png": "[encoded data removed]",
      "text/plain": [
       "<Figure size 640x480 with 1 Axes>"
      ]
     },
     "metadata": {},
     "output_type": "display_data"
    }
   ],
   "source": [
    "fig, ax = plt.subplots()\n",
    "ax = plotutils.SEDReaderSourcePlot(ax, TXS_reader).ax\n",
    "ax = plotutils.ProcessedSourcePlot(ax, TXS_processed, handler.frequency_bins_names).ax\n",
    "#ax.legend()"
   ]
  },
  {
   "cell_type": "code",
   "execution_count": 18,
   "metadata": {},
   "outputs": [
    {
     "data": {
      "application/vnd.jupyter.widget-view+json": {
       "model_id": "af269e2e854448ed93a228d22b5e1fda",
       "version_major": 2,
       "version_minor": 0
      },
      "text/plain": [
       "HBox(children=(FloatProgress(value=0.0, description='Summarize dataset', max=64.0, style=ProgressStyle(descrip…"
      ]
     },
     "metadata": {},
     "output_type": "display_data"
    },
    {
     "name": "stdout",
     "output_type": "stream",
     "text": [
      "\n"
     ]
    },
    {
     "data": {
      "application/vnd.jupyter.widget-view+json": {
       "model_id": "15bb01c5b73f4cd99217129d16cfdbaa",
       "version_major": 2,
       "version_minor": 0
      },
      "text/plain": [
       "HBox(children=(FloatProgress(value=0.0, description='Generate report structure', max=1.0, style=ProgressStyle(…"
      ]
     },
     "metadata": {},
     "output_type": "display_data"
    },
    {
     "name": "stdout",
     "output_type": "stream",
     "text": [
      "\n"
     ]
    },
    {
     "data": {
      "application/vnd.jupyter.widget-view+json": {
       "model_id": "a07f599d192643f1b34afc656f8af764",
       "version_major": 2,
       "version_minor": 0
      },
      "text/plain": [
       "HBox(children=(FloatProgress(value=0.0, description='Render HTML', max=1.0, style=ProgressStyle(description_wi…"
      ]
     },
     "metadata": {},
     "output_type": "display_data"
    },
    {
     "name": "stdout",
     "output_type": "stream",
     "text": [
      "\n"
     ]
    },
    {
     "data": {
      "application/vnd.jupyter.widget-view+json": {
       "model_id": "a09b2c8333ad45e794af62f853a0f51e",
       "version_major": 2,
       "version_minor": 0
      },
      "text/plain": [
       "HBox(children=(FloatProgress(value=0.0, description='Export report to file', max=1.0, style=ProgressStyle(desc…"
      ]
     },
     "metadata": {},
     "output_type": "display_data"
    },
    {
     "name": "stdout",
     "output_type": "stream",
     "text": [
      "\n"
     ]
    }
   ],
   "source": [
    "utils.generate_report(processed_df, output=\"./\")"
   ]
  },
  {
   "cell_type": "code",
   "execution_count": null,
   "metadata": {},
   "outputs": [],
   "source": []
  },
  {
   "cell_type": "code",
   "execution_count": null,
   "metadata": {},
   "outputs": [],
   "source": []
  }
 ],
 "metadata": {
  "kernelspec": {
   "display_name": "Python 3",
   "language": "python",
   "name": "python3"
  },
  "language_info": {
   "codemirror_mode": {
    "name": "ipython",
    "version": 3
   },
   "file_extension": ".py",
   "mimetype": "text/x-python",
   "name": "python",
   "nbconvert_exporter": "python",
   "pygments_lexer": "ipython3",
   "version": "3.7.6"
  }
 },
 "nbformat": 4,
 "nbformat_minor": 4
}
