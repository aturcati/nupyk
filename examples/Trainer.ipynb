{
 "cells": [
  {
   "cell_type": "code",
   "execution_count": 1,
   "metadata": {},
   "outputs": [],
   "source": [
    "import numpy as np\n",
    "import pandas as pd\n",
    "import matplotlib.pyplot as plt\n",
    "import seaborn as sns\n",
    "\n",
    "import sys"
   ]
  },
  {
   "cell_type": "code",
   "execution_count": 2,
   "metadata": {},
   "outputs": [],
   "source": [
    "sys.path.append(\"../\")"
   ]
  },
  {
   "cell_type": "code",
   "execution_count": 3,
   "metadata": {},
   "outputs": [],
   "source": [
    "from nupyk import trainers, plotutils"
   ]
  },
  {
   "cell_type": "code",
   "execution_count": 4,
   "metadata": {},
   "outputs": [],
   "source": [
    "xgb_trainer = trainers.XGBRTrainer()"
   ]
  },
  {
   "cell_type": "code",
   "execution_count": 5,
   "metadata": {},
   "outputs": [],
   "source": [
    "xgb_trainer.load_pickle_data(\"output/all_sources_processed.pkl\")"
   ]
  },
  {
   "cell_type": "code",
   "execution_count": 6,
   "metadata": {},
   "outputs": [
    {
     "data": {
      "text/html": [
       "<div>\n",
       "<style scoped>\n",
       "    .dataframe tbody tr th:only-of-type {\n",
       "        vertical-align: middle;\n",
       "    }\n",
       "\n",
       "    .dataframe tbody tr th {\n",
       "        vertical-align: top;\n",
       "    }\n",
       "\n",
       "    .dataframe thead th {\n",
       "        text-align: right;\n",
       "    }\n",
       "</style>\n",
       "<table border=\"1\" class=\"dataframe\">\n",
       "  <thead>\n",
       "    <tr style=\"text-align: right;\">\n",
       "      <th></th>\n",
       "      <th>name</th>\n",
       "      <th>dec</th>\n",
       "      <th>ra</th>\n",
       "      <th>nu_peak</th>\n",
       "      <th>redshift</th>\n",
       "      <th>radio_freq_mean</th>\n",
       "      <th>radio_flux_mean</th>\n",
       "      <th>radio_flux_std</th>\n",
       "      <th>radio_flux_min</th>\n",
       "      <th>radio_flux_max</th>\n",
       "      <th>...</th>\n",
       "      <th>optical_freq_max</th>\n",
       "      <th>optical_freq_count</th>\n",
       "      <th>X_freq_std</th>\n",
       "      <th>X_freq_min</th>\n",
       "      <th>X_freq_max</th>\n",
       "      <th>X_freq_count</th>\n",
       "      <th>gamma_freq_std</th>\n",
       "      <th>gamma_freq_min</th>\n",
       "      <th>gamma_freq_max</th>\n",
       "      <th>gamma_freq_count</th>\n",
       "    </tr>\n",
       "  </thead>\n",
       "  <tbody>\n",
       "    <tr>\n",
       "      <th>0</th>\n",
       "      <td>3HSPJ152316</td>\n",
       "      <td>58.5877</td>\n",
       "      <td>230.8169</td>\n",
       "      <td>16.0</td>\n",
       "      <td>0.350</td>\n",
       "      <td>1.400000e+09</td>\n",
       "      <td>1.431500e-16</td>\n",
       "      <td>1.930402e-17</td>\n",
       "      <td>1.295000e-16</td>\n",
       "      <td>1.568000e-16</td>\n",
       "      <td>...</td>\n",
       "      <td>8.402000e+14</td>\n",
       "      <td>13.0</td>\n",
       "      <td>1.274970e+17</td>\n",
       "      <td>1.295000e+15</td>\n",
       "      <td>2.660000e+17</td>\n",
       "      <td>6.0</td>\n",
       "      <td>NaN</td>\n",
       "      <td>NaN</td>\n",
       "      <td>NaN</td>\n",
       "      <td>NaN</td>\n",
       "    </tr>\n",
       "    <tr>\n",
       "      <th>1</th>\n",
       "      <td>3HSPJ001442</td>\n",
       "      <td>16.3573</td>\n",
       "      <td>3.6753</td>\n",
       "      <td>16.5</td>\n",
       "      <td>0.560</td>\n",
       "      <td>1.400000e+09</td>\n",
       "      <td>7.140000e-17</td>\n",
       "      <td>0.000000e+00</td>\n",
       "      <td>7.140000e-17</td>\n",
       "      <td>7.140000e-17</td>\n",
       "      <td>...</td>\n",
       "      <td>8.402000e+14</td>\n",
       "      <td>10.0</td>\n",
       "      <td>NaN</td>\n",
       "      <td>2.418000e+17</td>\n",
       "      <td>2.418000e+17</td>\n",
       "      <td>1.0</td>\n",
       "      <td>NaN</td>\n",
       "      <td>NaN</td>\n",
       "      <td>NaN</td>\n",
       "      <td>NaN</td>\n",
       "    </tr>\n",
       "    <tr>\n",
       "      <th>2</th>\n",
       "      <td>3HSPJ123417</td>\n",
       "      <td>-38.9431</td>\n",
       "      <td>188.5715</td>\n",
       "      <td>16.2</td>\n",
       "      <td>0.236</td>\n",
       "      <td>1.400000e+09</td>\n",
       "      <td>8.960000e-17</td>\n",
       "      <td>0.000000e+00</td>\n",
       "      <td>8.960000e-17</td>\n",
       "      <td>8.960000e-17</td>\n",
       "      <td>...</td>\n",
       "      <td>2.427000e+14</td>\n",
       "      <td>1.0</td>\n",
       "      <td>2.288116e+17</td>\n",
       "      <td>2.418000e+17</td>\n",
       "      <td>7.253000e+17</td>\n",
       "      <td>4.0</td>\n",
       "      <td>NaN</td>\n",
       "      <td>NaN</td>\n",
       "      <td>NaN</td>\n",
       "      <td>NaN</td>\n",
       "    </tr>\n",
       "    <tr>\n",
       "      <th>3</th>\n",
       "      <td>3HSPJ082707</td>\n",
       "      <td>8.6892</td>\n",
       "      <td>126.7795</td>\n",
       "      <td>17.0</td>\n",
       "      <td>0.410</td>\n",
       "      <td>1.400000e+09</td>\n",
       "      <td>1.975500e-16</td>\n",
       "      <td>1.364716e-17</td>\n",
       "      <td>1.879000e-16</td>\n",
       "      <td>2.072000e-16</td>\n",
       "      <td>...</td>\n",
       "      <td>8.402000e+14</td>\n",
       "      <td>10.0</td>\n",
       "      <td>1.386675e+17</td>\n",
       "      <td>1.295000e+15</td>\n",
       "      <td>2.418000e+17</td>\n",
       "      <td>3.0</td>\n",
       "      <td>NaN</td>\n",
       "      <td>NaN</td>\n",
       "      <td>NaN</td>\n",
       "      <td>NaN</td>\n",
       "    </tr>\n",
       "    <tr>\n",
       "      <th>4</th>\n",
       "      <td>3HSPJ015958</td>\n",
       "      <td>-36.7204</td>\n",
       "      <td>29.9923</td>\n",
       "      <td>15.8</td>\n",
       "      <td>0.530</td>\n",
       "      <td>1.400000e+09</td>\n",
       "      <td>6.300000e-17</td>\n",
       "      <td>0.000000e+00</td>\n",
       "      <td>6.300000e-17</td>\n",
       "      <td>6.300000e-17</td>\n",
       "      <td>...</td>\n",
       "      <td>4.455000e+14</td>\n",
       "      <td>1.0</td>\n",
       "      <td>1.386675e+17</td>\n",
       "      <td>1.295000e+15</td>\n",
       "      <td>2.418000e+17</td>\n",
       "      <td>3.0</td>\n",
       "      <td>NaN</td>\n",
       "      <td>NaN</td>\n",
       "      <td>NaN</td>\n",
       "      <td>NaN</td>\n",
       "    </tr>\n",
       "  </tbody>\n",
       "</table>\n",
       "<p>5 rows × 55 columns</p>\n",
       "</div>"
      ],
      "text/plain": [
       "          name      dec        ra  nu_peak  redshift  radio_freq_mean  \\\n",
       "0  3HSPJ152316  58.5877  230.8169     16.0     0.350     1.400000e+09   \n",
       "1  3HSPJ001442  16.3573    3.6753     16.5     0.560     1.400000e+09   \n",
       "2  3HSPJ123417 -38.9431  188.5715     16.2     0.236     1.400000e+09   \n",
       "3  3HSPJ082707   8.6892  126.7795     17.0     0.410     1.400000e+09   \n",
       "4  3HSPJ015958 -36.7204   29.9923     15.8     0.530     1.400000e+09   \n",
       "\n",
       "   radio_flux_mean  radio_flux_std  radio_flux_min  radio_flux_max  ...  \\\n",
       "0     1.431500e-16    1.930402e-17    1.295000e-16    1.568000e-16  ...   \n",
       "1     7.140000e-17    0.000000e+00    7.140000e-17    7.140000e-17  ...   \n",
       "2     8.960000e-17    0.000000e+00    8.960000e-17    8.960000e-17  ...   \n",
       "3     1.975500e-16    1.364716e-17    1.879000e-16    2.072000e-16  ...   \n",
       "4     6.300000e-17    0.000000e+00    6.300000e-17    6.300000e-17  ...   \n",
       "\n",
       "   optical_freq_max  optical_freq_count    X_freq_std    X_freq_min  \\\n",
       "0      8.402000e+14                13.0  1.274970e+17  1.295000e+15   \n",
       "1      8.402000e+14                10.0           NaN  2.418000e+17   \n",
       "2      2.427000e+14                 1.0  2.288116e+17  2.418000e+17   \n",
       "3      8.402000e+14                10.0  1.386675e+17  1.295000e+15   \n",
       "4      4.455000e+14                 1.0  1.386675e+17  1.295000e+15   \n",
       "\n",
       "     X_freq_max  X_freq_count  gamma_freq_std  gamma_freq_min  gamma_freq_max  \\\n",
       "0  2.660000e+17           6.0             NaN             NaN             NaN   \n",
       "1  2.418000e+17           1.0             NaN             NaN             NaN   \n",
       "2  7.253000e+17           4.0             NaN             NaN             NaN   \n",
       "3  2.418000e+17           3.0             NaN             NaN             NaN   \n",
       "4  2.418000e+17           3.0             NaN             NaN             NaN   \n",
       "\n",
       "   gamma_freq_count  \n",
       "0               NaN  \n",
       "1               NaN  \n",
       "2               NaN  \n",
       "3               NaN  \n",
       "4               NaN  \n",
       "\n",
       "[5 rows x 55 columns]"
      ]
     },
     "execution_count": 6,
     "metadata": {},
     "output_type": "execute_result"
    }
   ],
   "source": [
    "xgb_trainer.dataframe.head()"
   ]
  },
  {
   "cell_type": "code",
   "execution_count": 7,
   "metadata": {},
   "outputs": [],
   "source": [
    "model_settings = {\n",
    "    \"n_estimators\": 1000,\n",
    "    \"learning_rate\": 0.03,\n",
    "    \"objective\": \"reg:squarederror\",\n",
    "}"
   ]
  },
  {
   "cell_type": "code",
   "execution_count": 8,
   "metadata": {},
   "outputs": [],
   "source": [
    "xgb_trainer.def_model(model_settings)"
   ]
  },
  {
   "cell_type": "code",
   "execution_count": 9,
   "metadata": {},
   "outputs": [
    {
     "data": {
      "text/plain": [
       "XGBRegressor(base_score=None, booster=None, colsample_bylevel=None,\n",
       "             colsample_bynode=None, colsample_bytree=None, gamma=None,\n",
       "             gpu_id=None, importance_type='gain', interaction_constraints=None,\n",
       "             learning_rate=0.03, max_delta_step=None, max_depth=None,\n",
       "             min_child_weight=None, missing=nan, monotone_constraints=None,\n",
       "             n_estimators=1000, n_jobs=None, num_parallel_tree=None,\n",
       "             objective='reg:squarederror', random_state=None, reg_alpha=None,\n",
       "             reg_lambda=None, scale_pos_weight=None, subsample=None,\n",
       "             tree_method=None, validate_parameters=False, verbosity=None)"
      ]
     },
     "execution_count": 9,
     "metadata": {},
     "output_type": "execute_result"
    }
   ],
   "source": [
    "xgb_trainer.model"
   ]
  },
  {
   "cell_type": "code",
   "execution_count": 10,
   "metadata": {},
   "outputs": [],
   "source": [
    "xgb_trainer.process()"
   ]
  },
  {
   "cell_type": "code",
   "execution_count": 11,
   "metadata": {},
   "outputs": [
    {
     "name": "stdout",
     "output_type": "stream",
     "text": [
      "Function: 'fit_model' took: 16.45 s\n"
     ]
    }
   ],
   "source": [
    "xgb_trainer.fit_model()"
   ]
  },
  {
   "cell_type": "code",
   "execution_count": 12,
   "metadata": {},
   "outputs": [
    {
     "name": "stdout",
     "output_type": "stream",
     "text": [
      "                                 0\n",
      "explained_variance_score  0.816601\n",
      "max_error                 3.003025\n",
      "mean_absolute_error       0.437957\n",
      "mean_squared_error        0.368457\n",
      "mean_squared_log_error    0.001368\n",
      "median_absolute_error     0.323905\n",
      "r2_score                  0.816488\n",
      "mean_poisson_deviance     0.023860\n",
      "mean_gamma_deviance       0.001557\n"
     ]
    }
   ],
   "source": [
    "xgb_trainer.generate_metrics()\n",
    "print(xgb_trainer.model_metrics)"
   ]
  },
  {
   "cell_type": "code",
   "execution_count": 13,
   "metadata": {},
   "outputs": [],
   "source": [
    "xgb_trainer.save_model(\"test_model\")"
   ]
  },
  {
   "cell_type": "code",
   "execution_count": 14,
   "metadata": {},
   "outputs": [],
   "source": [
    "xgb_trainer.save_metrics(\"test_metrics\")"
   ]
  },
  {
   "cell_type": "code",
   "execution_count": 15,
   "metadata": {},
   "outputs": [],
   "source": [
    "xgb_test = trainers.XGBRTrainer()"
   ]
  },
  {
   "cell_type": "code",
   "execution_count": 16,
   "metadata": {},
   "outputs": [],
   "source": [
    "xgb_test.load_pickle_model(\"models/test_model.pkl\")"
   ]
  },
  {
   "cell_type": "code",
   "execution_count": 17,
   "metadata": {},
   "outputs": [],
   "source": [
    "test_model = xgb_test.model"
   ]
  },
  {
   "cell_type": "code",
   "execution_count": 18,
   "metadata": {},
   "outputs": [],
   "source": [
    "prediction = test_model.predict(xgb_trainer._x_test)"
   ]
  },
  {
   "cell_type": "code",
   "execution_count": 19,
   "metadata": {},
   "outputs": [],
   "source": [
    "target = xgb_trainer._target_test"
   ]
  },
  {
   "cell_type": "code",
   "execution_count": 20,
   "metadata": {},
   "outputs": [
    {
     "data": {
      "image/png": "[encoded data removed]",
      "text/plain": [
       "<Figure size 432x288 with 1 Axes>"
      ]
     },
     "metadata": {
      "needs_background": "light"
     },
     "output_type": "display_data"
    }
   ],
   "source": [
    "fig, ax = plt.subplots()\n",
    "ax = plotutils.PredVsTargetPlot(ax, prediction, target).ax"
   ]
  },
  {
   "cell_type": "code",
   "execution_count": null,
   "metadata": {},
   "outputs": [],
   "source": []
  }
 ],
 "metadata": {
  "kernelspec": {
   "display_name": "Python 3",
   "language": "python",
   "name": "python3"
  },
  "language_info": {
   "codemirror_mode": {
    "name": "ipython",
    "version": 3
   },
   "file_extension": ".py",
   "mimetype": "text/x-python",
   "name": "python",
   "nbconvert_exporter": "python",
   "pygments_lexer": "ipython3",
   "version": "3.7.6"
  }
 },
 "nbformat": 4,
 "nbformat_minor": 4
}
